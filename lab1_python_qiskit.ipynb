{
 "cells": [
  {
   "cell_type": "markdown",
   "metadata": {},
   "source": [
    "## Laboratório 1: Introdução ao Python & Qiskit"
   ]
  },
  {
   "cell_type": "code",
   "execution_count": 4,
   "metadata": {},
   "outputs": [],
   "source": [
    "# Ignorando Warnings\n",
    "\n",
    "import warnings\n",
    "warnings.filterwarnings(\"ignore\")"
   ]
  },
  {
   "cell_type": "markdown",
   "metadata": {},
   "source": [
    "### 1 – Python"
   ]
  },
  {
   "cell_type": "markdown",
   "metadata": {},
   "source": [
    "#### A. Variáveis e Tipos"
   ]
  },
  {
   "cell_type": "code",
   "execution_count": 3,
   "metadata": {},
   "outputs": [
    {
     "name": "stdout",
     "output_type": "stream",
     "text": [
      "Variável inteira: 1\n",
      "Variável float: 1.0\n",
      "Variável complexa: (1+1j)\n",
      "Variável string: uma string qualquer\n",
      "Variável booleana: True\n",
      "Inteiro para float: 1.0\n",
      "Float para complexo: (1+0j)\n",
      "Tipo inteiro <class 'int'>\n",
      "Tipo float <class 'float'>\n",
      "Tipo complexo <class 'complex'>\n"
     ]
    }
   ],
   "source": [
    "# A.1 - Criando Variáveis (int, float, complex, str, bool)\n",
    "xi = 1\n",
    "print('Variável inteira:', xi)\n",
    "\n",
    "xf = 1.0\n",
    "print('Variável float:', xf)\n",
    "\n",
    "xc = 1 + 1j\n",
    "print('Variável complexa:', xc)\n",
    "\n",
    "xs = 'uma string qualquer'\n",
    "print('Variável string:', xs)\n",
    "\n",
    "xb = True\n",
    "print('Variável booleana:', xb)\n",
    "\n",
    "# A.2 - Casting\n",
    "xif = float(xi)\n",
    "print('Inteiro para float:', xif)\n",
    "\n",
    "xfc = complex(xf)\n",
    "print('Float para complexo:', xfc)\n",
    "\n",
    "# A.3 - Encontrando Tipo\n",
    "print('Tipo inteiro', type(xi))\n",
    "print('Tipo float',type(xf))\n",
    "print('Tipo complexo',type(xc))"
   ]
  },
  {
   "cell_type": "code",
   "execution_count": 4,
   "metadata": {},
   "outputs": [
    {
     "name": "stdout",
     "output_type": "stream",
     "text": [
      "Lista: [1, 2, 3]\n",
      "Lista atualizada: [1, 2, 3, 4, 5, 6]\n",
      "Lista item removido: [1, 2, 3, 4, 5]\n",
      "Primeiro item atualizado: [13, 2, 3, 4, 5]\n",
      "----\n",
      "Tupla: (1, 2, 3)\n",
      "Índice do valor 2: 1\n",
      "----\n",
      "Conjunto: {1, 2, 3}\n",
      "Novo conjunto: {1, 2, 3, 4}\n",
      "Novo-novo conjunto: {1, 2, 3, 4, 5}\n",
      "----\n",
      "Dicionário: {'a': 1, 'b': 2, 'c': 3}\n",
      "Key: a - Value: 1\n",
      "Dicionário atualizado: {'a': 1, 'b': 2, 'c': 3, 'd': 4}\n",
      "Dicionário atualziado-atualizado: {'a': 5, 'b': 2, 'c': 3, 'd': 4}\n"
     ]
    }
   ],
   "source": [
    "# A.4 - Listas\n",
    "la = [1,2,3]\n",
    "print('Lista:',la)\n",
    "la.append(4)\n",
    "la = la + [5]\n",
    "la += [6]\n",
    "print('Lista atualizada:', la)\n",
    "la.remove(6)\n",
    "print('Lista item removido:', la)\n",
    "la[0] = 13\n",
    "print('Primeiro item atualizado:', la)\n",
    "print('----')\n",
    "\n",
    "# A.5 - Tuplas\n",
    "ta = (1,2,3)\n",
    "print('Tupla:',ta)\n",
    "print('Índice do valor 2:', ta.index(2))\n",
    "print('----')\n",
    "\n",
    "# A.6 - Conjuntos\n",
    "sa = {1,2,3}\n",
    "print('Conjunto:', sa)\n",
    "sa.add(4)\n",
    "print('Novo conjunto:', sa)\n",
    "sa.add(4)\n",
    "sa.add(5)\n",
    "print('Novo-novo conjunto:', sa)\n",
    "print('----')\n",
    "\n",
    "# A.7 - Dicionários\n",
    "da = {'a':1, 'b':2, 'c':3}\n",
    "print('Dicionário:', da)\n",
    "print('Key:', 'a -', 'Value:', da['a'])\n",
    "da['d'] = 4\n",
    "print('Dicionário atualizado:', da)\n",
    "da.update({'a':5})\n",
    "print('Dicionário atualziado-atualizado:', da)"
   ]
  },
  {
   "cell_type": "markdown",
   "metadata": {},
   "source": [
    "#### B. Operadores"
   ]
  },
  {
   "cell_type": "code",
   "execution_count": 5,
   "metadata": {},
   "outputs": [
    {
     "name": "stdout",
     "output_type": "stream",
     "text": [
      "Operações: 2.0\n",
      "Módulo: 1\n",
      "Divisão floor: 3.0\n",
      "----\n",
      "Menor: True\n",
      "Maior: False\n",
      "Menor igual: True\n",
      "Maior igual: False\n",
      "Igual: False\n",
      "Diferente: True\n",
      "----\n",
      "False\n"
     ]
    }
   ],
   "source": [
    "# B.1 - Adição, Subtração, Multiplicação, Divisões, Módulo, Potência\n",
    "va = 2.0\n",
    "vb = 3.0\n",
    "print('Operações:',va*vb + 2*vb - (vb + 1)/2 - va**vb)\n",
    "print('Módulo:', 3%2)\n",
    "print('Divisão floor:', 11.9//3)\n",
    "print('----')\n",
    "\n",
    "# B.2 - Comparadores: Igual, Diferente, Menor, Maior\n",
    "print('Menor:', va < vb)\n",
    "print('Maior:', va > vb)\n",
    "print('Menor igual:', va <= vb)\n",
    "print('Maior igual:',va >= vb)\n",
    "print('Igual:', va == vb)\n",
    "print('Diferente:',va != vb)\n",
    "print('----')\n",
    "\n",
    "# B.4 - Operadores Lógicos (and, or, not)\n",
    "print(not ((True and False) or (True)))"
   ]
  },
  {
   "cell_type": "markdown",
   "metadata": {},
   "source": [
    "#### C. Estruturas de Controle"
   ]
  },
  {
   "cell_type": "code",
   "execution_count": 6,
   "metadata": {},
   "outputs": [
    {
     "name": "stdout",
     "output_type": "stream",
     "text": [
      "0\n",
      "1\n",
      "2\n",
      "3\n",
      "4\n",
      "----\n",
      "13\n",
      "2\n",
      "3\n",
      "4\n",
      "5\n",
      "----\n",
      "a 5\n",
      "b 2\n",
      "c 3\n",
      "d 4\n",
      "----\n",
      "16\n",
      "8\n",
      "4\n",
      "----\n",
      "A\n",
      "b\n",
      "A\n",
      "b\n",
      "A\n",
      "b\n",
      "A\n",
      "b\n",
      "A\n",
      "b\n"
     ]
    }
   ],
   "source": [
    "# C.1 - For\n",
    "for x in range(5):\n",
    "    print(x)\n",
    "\n",
    "print('----')\n",
    "for x in la:\n",
    "    print(x)\n",
    "\n",
    "print('----')    \n",
    "for x in da:\n",
    "    print(x, da[x])\n",
    "    \n",
    "# C.2 - While\n",
    "print('----') \n",
    "x = 16\n",
    "while x !=2:\n",
    "    print(x)\n",
    "    x = x//2\n",
    "\n",
    "# C.3 - If-Else\n",
    "print('----')\n",
    "for x in range(10):\n",
    "    if x%2 == 0:\n",
    "        print('A')\n",
    "    else:\n",
    "        print('b')"
   ]
  },
  {
   "cell_type": "markdown",
   "metadata": {},
   "source": [
    "#### D.  Funções"
   ]
  },
  {
   "cell_type": "code",
   "execution_count": 7,
   "metadata": {},
   "outputs": [],
   "source": [
    "# D.1 -  Criando uma Função\n",
    "def ver_par(x):\n",
    "    v = x%2 == 0\n",
    "    return v"
   ]
  },
  {
   "cell_type": "code",
   "execution_count": 8,
   "metadata": {},
   "outputs": [
    {
     "name": "stdout",
     "output_type": "stream",
     "text": [
      "True\n"
     ]
    }
   ],
   "source": [
    "# D.2 - Chamando uma Função\n",
    "\n",
    "n = 2\n",
    "m = ver_par(n)\n",
    "print(m)"
   ]
  },
  {
   "cell_type": "markdown",
   "metadata": {},
   "source": [
    "#### E. Numpy"
   ]
  },
  {
   "cell_type": "code",
   "execution_count": 9,
   "metadata": {},
   "outputs": [],
   "source": [
    "# E.1 - Utilizando Imports\n",
    "import numpy as np"
   ]
  },
  {
   "cell_type": "code",
   "execution_count": 10,
   "metadata": {},
   "outputs": [
    {
     "name": "stdout",
     "output_type": "stream",
     "text": [
      "[1 2 3 4 5 6 7]\n",
      "Slice: [1 2 3 4]\n",
      "Slice: [1 2 3 4 5 6 7]\n",
      "Slice: [1 3 5 7]\n",
      "Zeros [[0. 0. 0.]\n",
      " [0. 0. 0.]\n",
      " [0. 0. 0.]]\n",
      "[[1. 1.]\n",
      " [1. 1.]]\n",
      "[[1. 0. 0. 0.]\n",
      " [0. 1. 0. 0.]\n",
      " [0. 0. 1. 0.]\n",
      " [0. 0. 0. 1.]]\n"
     ]
    }
   ],
   "source": [
    "# E.2 - Criando Arrays e Matrizes\n",
    "a1 = np.array([1,2,3,4,5,6,7])\n",
    "print(a1)\n",
    "\n",
    "# E.3 - Slicing\n",
    "print('Slice:', a1[0:4])\n",
    "print('Slice:', a1[0::])\n",
    "print('Slice:', a1[0::2])\n",
    "\n",
    "# E.4 - Zeros, Ones and Eye\n",
    "Z = np.zeros([3,3])\n",
    "A = np.ones([2,2])\n",
    "I = np.eye(4)\n",
    "print('Zeros', Z)\n",
    "print(A)\n",
    "print(I)"
   ]
  },
  {
   "cell_type": "markdown",
   "metadata": {},
   "source": [
    "#### F. Exercícios"
   ]
  },
  {
   "cell_type": "markdown",
   "metadata": {},
   "source": [
    "1) Construa uma função que verifica se uma palavra é palíndromo. Portanto, a entrada será uma string e a saída um valor booleano."
   ]
  },
  {
   "cell_type": "markdown",
   "metadata": {},
   "source": [
    "2) Construa uma função que calcule a norma de um vetor. A entrada será uma lista e a saída será um float. O intuito não é utilizar o numpy."
   ]
  },
  {
   "cell_type": "markdown",
   "metadata": {},
   "source": [
    "3) Implemente uma função que verifique se uma matriz é hermiteana ou não. A entrada pode ser uma lista de listas e que codifique uma matriz, e a saída poderá ser uma valor booleano."
   ]
  },
  {
   "cell_type": "code",
   "execution_count": 11,
   "metadata": {},
   "outputs": [],
   "source": [
    "def is_palindrome(string):\n",
    "    n = len(string)\n",
    "    for i in range(0, int(len(string)/2)):\n",
    "        if string[i]!=string[len(string)-1-i]:\n",
    "            return False\n",
    "    return True"
   ]
  },
  {
   "cell_type": "code",
   "execution_count": 12,
   "metadata": {},
   "outputs": [],
   "source": [
    "def norma(vet):\n",
    "    sum = 0\n",
    "    for i in vet:\n",
    "        sum += i**2\n",
    "    return sum**(1/2)"
   ]
  },
  {
   "cell_type": "code",
   "execution_count": 13,
   "metadata": {},
   "outputs": [],
   "source": [
    "def is_hermitiana(lista):\n",
    "    # Primeiro vamos ver se é quadrada\n",
    "    for i in lista:\n",
    "        if len(i) != len(lista):\n",
    "            return False\n",
    "    for i in range(0, len(lista)):\n",
    "        for j in range(i, len(lista)):\n",
    "            if lista[i][j] != lista[j][i].conjugate():\n",
    "                return False\n",
    "    return True"
   ]
  },
  {
   "cell_type": "markdown",
   "metadata": {},
   "source": [
    "### 2 – Qiskit"
   ]
  },
  {
   "cell_type": "markdown",
   "metadata": {},
   "source": [
    "#### A. Introdução ao Qiskit"
   ]
  },
  {
   "cell_type": "code",
   "execution_count": 2,
   "metadata": {},
   "outputs": [
    {
     "name": "stderr",
     "output_type": "stream",
     "text": [
      "/home/yury/Documentos/conda/env/lib/python3.8/site-packages/qiskit/quantum_info/operators/pauli.py:111: DeprecationWarning: `np.bool` is a deprecated alias for the builtin `bool`. To silence this warning, use `bool` by itself. Doing this will not modify any behavior and is safe. If you specifically wanted the numpy scalar type, use `np.bool_` here.\n",
      "Deprecated in NumPy 1.20; for more details and guidance: https://numpy.org/devdocs/release/1.20.0-notes.html#deprecations\n",
      "  z = np.zeros(len(label), dtype=np.bool)\n",
      "/home/yury/Documentos/conda/env/lib/python3.8/site-packages/qiskit/quantum_info/operators/pauli.py:112: DeprecationWarning: `np.bool` is a deprecated alias for the builtin `bool`. To silence this warning, use `bool` by itself. Doing this will not modify any behavior and is safe. If you specifically wanted the numpy scalar type, use `np.bool_` here.\n",
      "Deprecated in NumPy 1.20; for more details and guidance: https://numpy.org/devdocs/release/1.20.0-notes.html#deprecations\n",
      "  x = np.zeros(len(label), dtype=np.bool)\n",
      "/home/yury/Documentos/conda/env/lib/python3.8/site-packages/qiskit/quantum_info/operators/pauli.py:34: DeprecationWarning: `np.bool` is a deprecated alias for the builtin `bool`. To silence this warning, use `bool` by itself. Doing this will not modify any behavior and is safe. If you specifically wanted the numpy scalar type, use `np.bool_` here.\n",
      "Deprecated in NumPy 1.20; for more details and guidance: https://numpy.org/devdocs/release/1.20.0-notes.html#deprecations\n",
      "  arr = np.asarray(arr).astype(np.bool)\n",
      "/home/yury/Documentos/conda/env/lib/python3.8/site-packages/qiskit/quantum_info/operators/pauli.py:34: DeprecationWarning: `np.bool` is a deprecated alias for the builtin `bool`. To silence this warning, use `bool` by itself. Doing this will not modify any behavior and is safe. If you specifically wanted the numpy scalar type, use `np.bool_` here.\n",
      "Deprecated in NumPy 1.20; for more details and guidance: https://numpy.org/devdocs/release/1.20.0-notes.html#deprecations\n",
      "  arr = np.asarray(arr).astype(np.bool)\n",
      "/home/yury/Documentos/conda/env/lib/python3.8/site-packages/qiskit/quantum_info/operators/pauli.py:111: DeprecationWarning: `np.bool` is a deprecated alias for the builtin `bool`. To silence this warning, use `bool` by itself. Doing this will not modify any behavior and is safe. If you specifically wanted the numpy scalar type, use `np.bool_` here.\n",
      "Deprecated in NumPy 1.20; for more details and guidance: https://numpy.org/devdocs/release/1.20.0-notes.html#deprecations\n",
      "  z = np.zeros(len(label), dtype=np.bool)\n",
      "/home/yury/Documentos/conda/env/lib/python3.8/site-packages/qiskit/quantum_info/operators/pauli.py:112: DeprecationWarning: `np.bool` is a deprecated alias for the builtin `bool`. To silence this warning, use `bool` by itself. Doing this will not modify any behavior and is safe. If you specifically wanted the numpy scalar type, use `np.bool_` here.\n",
      "Deprecated in NumPy 1.20; for more details and guidance: https://numpy.org/devdocs/release/1.20.0-notes.html#deprecations\n",
      "  x = np.zeros(len(label), dtype=np.bool)\n",
      "/home/yury/Documentos/conda/env/lib/python3.8/site-packages/qiskit/quantum_info/operators/pauli.py:34: DeprecationWarning: `np.bool` is a deprecated alias for the builtin `bool`. To silence this warning, use `bool` by itself. Doing this will not modify any behavior and is safe. If you specifically wanted the numpy scalar type, use `np.bool_` here.\n",
      "Deprecated in NumPy 1.20; for more details and guidance: https://numpy.org/devdocs/release/1.20.0-notes.html#deprecations\n",
      "  arr = np.asarray(arr).astype(np.bool)\n",
      "/home/yury/Documentos/conda/env/lib/python3.8/site-packages/qiskit/quantum_info/operators/pauli.py:34: DeprecationWarning: `np.bool` is a deprecated alias for the builtin `bool`. To silence this warning, use `bool` by itself. Doing this will not modify any behavior and is safe. If you specifically wanted the numpy scalar type, use `np.bool_` here.\n",
      "Deprecated in NumPy 1.20; for more details and guidance: https://numpy.org/devdocs/release/1.20.0-notes.html#deprecations\n",
      "  arr = np.asarray(arr).astype(np.bool)\n",
      "/home/yury/Documentos/conda/env/lib/python3.8/site-packages/qiskit/quantum_info/operators/pauli.py:111: DeprecationWarning: `np.bool` is a deprecated alias for the builtin `bool`. To silence this warning, use `bool` by itself. Doing this will not modify any behavior and is safe. If you specifically wanted the numpy scalar type, use `np.bool_` here.\n",
      "Deprecated in NumPy 1.20; for more details and guidance: https://numpy.org/devdocs/release/1.20.0-notes.html#deprecations\n",
      "  z = np.zeros(len(label), dtype=np.bool)\n",
      "/home/yury/Documentos/conda/env/lib/python3.8/site-packages/qiskit/quantum_info/operators/pauli.py:112: DeprecationWarning: `np.bool` is a deprecated alias for the builtin `bool`. To silence this warning, use `bool` by itself. Doing this will not modify any behavior and is safe. If you specifically wanted the numpy scalar type, use `np.bool_` here.\n",
      "Deprecated in NumPy 1.20; for more details and guidance: https://numpy.org/devdocs/release/1.20.0-notes.html#deprecations\n",
      "  x = np.zeros(len(label), dtype=np.bool)\n",
      "/home/yury/Documentos/conda/env/lib/python3.8/site-packages/qiskit/quantum_info/operators/pauli.py:34: DeprecationWarning: `np.bool` is a deprecated alias for the builtin `bool`. To silence this warning, use `bool` by itself. Doing this will not modify any behavior and is safe. If you specifically wanted the numpy scalar type, use `np.bool_` here.\n",
      "Deprecated in NumPy 1.20; for more details and guidance: https://numpy.org/devdocs/release/1.20.0-notes.html#deprecations\n",
      "  arr = np.asarray(arr).astype(np.bool)\n",
      "/home/yury/Documentos/conda/env/lib/python3.8/site-packages/qiskit/quantum_info/operators/pauli.py:34: DeprecationWarning: `np.bool` is a deprecated alias for the builtin `bool`. To silence this warning, use `bool` by itself. Doing this will not modify any behavior and is safe. If you specifically wanted the numpy scalar type, use `np.bool_` here.\n",
      "Deprecated in NumPy 1.20; for more details and guidance: https://numpy.org/devdocs/release/1.20.0-notes.html#deprecations\n",
      "  arr = np.asarray(arr).astype(np.bool)\n",
      "/home/yury/Documentos/conda/env/lib/python3.8/site-packages/qiskit/quantum_info/operators/pauli.py:111: DeprecationWarning: `np.bool` is a deprecated alias for the builtin `bool`. To silence this warning, use `bool` by itself. Doing this will not modify any behavior and is safe. If you specifically wanted the numpy scalar type, use `np.bool_` here.\n",
      "Deprecated in NumPy 1.20; for more details and guidance: https://numpy.org/devdocs/release/1.20.0-notes.html#deprecations\n",
      "  z = np.zeros(len(label), dtype=np.bool)\n",
      "/home/yury/Documentos/conda/env/lib/python3.8/site-packages/qiskit/quantum_info/operators/pauli.py:112: DeprecationWarning: `np.bool` is a deprecated alias for the builtin `bool`. To silence this warning, use `bool` by itself. Doing this will not modify any behavior and is safe. If you specifically wanted the numpy scalar type, use `np.bool_` here.\n",
      "Deprecated in NumPy 1.20; for more details and guidance: https://numpy.org/devdocs/release/1.20.0-notes.html#deprecations\n",
      "  x = np.zeros(len(label), dtype=np.bool)\n",
      "/home/yury/Documentos/conda/env/lib/python3.8/site-packages/qiskit/quantum_info/operators/pauli.py:34: DeprecationWarning: `np.bool` is a deprecated alias for the builtin `bool`. To silence this warning, use `bool` by itself. Doing this will not modify any behavior and is safe. If you specifically wanted the numpy scalar type, use `np.bool_` here.\n",
      "Deprecated in NumPy 1.20; for more details and guidance: https://numpy.org/devdocs/release/1.20.0-notes.html#deprecations\n",
      "  arr = np.asarray(arr).astype(np.bool)\n",
      "/home/yury/Documentos/conda/env/lib/python3.8/site-packages/qiskit/quantum_info/operators/pauli.py:34: DeprecationWarning: `np.bool` is a deprecated alias for the builtin `bool`. To silence this warning, use `bool` by itself. Doing this will not modify any behavior and is safe. If you specifically wanted the numpy scalar type, use `np.bool_` here.\n",
      "Deprecated in NumPy 1.20; for more details and guidance: https://numpy.org/devdocs/release/1.20.0-notes.html#deprecations\n",
      "  arr = np.asarray(arr).astype(np.bool)\n"
     ]
    }
   ],
   "source": [
    "import warnings\n",
    "warnings.filterwarnings(\"ignore\")\n",
    "\n",
    "from qiskit import QuantumCircuit, Aer\n",
    "from qiskit.visualization import *"
   ]
  },
  {
   "cell_type": "code",
   "execution_count": 5,
   "metadata": {},
   "outputs": [
    {
     "data": {
      "image/png": "[encoded data removed]",
      "text/plain": [
       "<Figure size 381.432x204.68 with 1 Axes>"
      ]
     },
     "execution_count": 5,
     "metadata": {},
     "output_type": "execute_result"
    }
   ],
   "source": [
    "qc = QuantumCircuit(2,2)\n",
    "qc.h(0)\n",
    "qc.cx(0,1)\n",
    "qc.measure([0,1],[0,1])\n",
    "\n",
    "qc.draw('mpl')"
   ]
  },
  {
   "cell_type": "markdown",
   "metadata": {},
   "source": [
    "#### B. Exercícios"
   ]
  },
  {
   "cell_type": "code",
   "execution_count": 14,
   "metadata": {},
   "outputs": [
    {
     "name": "stdout",
     "output_type": "stream",
     "text": [
      "{'00': 4486, '11': 4514}\n"
     ]
    },
    {
     "data": {
      "image/png": "[encoded data removed]",
      "text/plain": [
       "<Figure size 504x360 with 1 Axes>"
      ]
     },
     "execution_count": 14,
     "metadata": {},
     "output_type": "execute_result"
    }
   ],
   "source": [
    "from qiskit import QuantumCircuit, QuantumRegister, ClassicalRegister, Aer, transpile, execute\n",
    "\n",
    "backend = Aer.get_backend('qasm_simulator')\n",
    "job = execute(qc, backend, shots= 9000)\n",
    "result = job.result().get_counts()\n",
    "print(result)\n",
    "plot_histogram(result)"
   ]
  },
  {
   "cell_type": "markdown",
   "metadata": {},
   "source": [
    "1) Construa um circuito para gerar números aleatórios"
   ]
  },
  {
   "cell_type": "code",
   "execution_count": 16,
   "metadata": {},
   "outputs": [
    {
     "data": {
      "image/png": "[encoded data removed]",
      "text/plain": [
       "<Figure size 1177.3x1047.48 with 1 Axes>"
      ]
     },
     "execution_count": 16,
     "metadata": {},
     "output_type": "execute_result"
    }
   ],
   "source": [
    "n = 16\n",
    "\n",
    "qa = QuantumCircuit(n,n)\n",
    "qa.h(range(n))\n",
    "\n",
    "qa.measure(range(n), range(n))\n",
    "\n",
    "qa.draw('mpl')"
   ]
  },
  {
   "cell_type": "code",
   "execution_count": 20,
   "metadata": {},
   "outputs": [
    {
     "name": "stdout",
     "output_type": "stream",
     "text": [
      "There you go, here is your random number: 6118\n"
     ]
    }
   ],
   "source": [
    "backend = Aer.get_backend('qasm_simulator')\n",
    "job = execute(qa, backend, shots= 1)\n",
    "result = job.result().get_counts()\n",
    "for i in result:\n",
    "    print(\"There you go, here is your random number: \" + str((int(i, 2))))"
   ]
  },
  {
   "cell_type": "markdown",
   "metadata": {},
   "source": [
    "2) Construa um circuito que verifica se uma string de zeros e uns é um palídromo. A entrada será uma string do tipo '01010101', ela deverá ser transformada em um estado, e depois você construirá um circuito que irá verificar se é palíndromo. Dica: portas controladas e um registrado quântico extra."
   ]
  },
  {
   "cell_type": "code",
   "execution_count": 38,
   "metadata": {},
   "outputs": [],
   "source": [
    "def quant_is_palindrome(string):\n",
    "    n = len(string)\n",
    "    qc = QuantumCircuit(n,int(n/2))\n",
    "    for i in range(0,n):\n",
    "        if int(string[i]) == 1:\n",
    "            qc.x(i)\n",
    "    for i in range(0, int(n/2)):\n",
    "        qc.cx(i,n-i-1)\n",
    "        qc.measure(n-i-1,i)\n",
    "    #qc.draw(output='mpl')\n",
    "    backend = Aer.get_backend('qasm_simulator')\n",
    "    job = execute(qc, backend, shots= 1)\n",
    "    result = job.result().get_counts()\n",
    "    for i in result.keys():\n",
    "        return(not(bool(int(i))))"
   ]
  },
  {
   "cell_type": "code",
   "execution_count": 44,
   "metadata": {},
   "outputs": [
    {
     "data": {
      "image/png": "[encoded data removed]",
      "text/plain": [
       "<Figure size 501.977x565.88 with 1 Axes>"
      ]
     },
     "execution_count": 44,
     "metadata": {},
     "output_type": "execute_result"
    }
   ],
   "source": [
    "string = '01010110'\n",
    "n = len(string)\n",
    "qc = QuantumCircuit(n,int(n/2))\n",
    "for i in range(0,n):\n",
    "    if int(string[i]) == 1:\n",
    "        qc.x(i)\n",
    "for i in range(0, int(n/2)):\n",
    "    qc.cx(i,n-i-1)\n",
    "    qc.measure(n-i-1,i)\n",
    "qc.draw(output='mpl')"
   ]
  },
  {
   "cell_type": "code",
   "execution_count": null,
   "metadata": {},
   "outputs": [],
   "source": []
  }
 ],
 "metadata": {
  "kernelspec": {
   "display_name": "Python 3",
   "language": "python",
   "name": "python3"
  },
  "language_info": {
   "codemirror_mode": {
    "name": "ipython",
    "version": 3
   },
   "file_extension": ".py",
   "mimetype": "text/x-python",
   "name": "python",
   "nbconvert_exporter": "python",
   "pygments_lexer": "ipython3",
   "version": "3.8.5"
  }
 },
 "nbformat": 4,
 "nbformat_minor": 5
}
